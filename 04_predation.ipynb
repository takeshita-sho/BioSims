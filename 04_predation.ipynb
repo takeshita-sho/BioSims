{
 "cells": [
  {
   "cell_type": "markdown",
   "metadata": {},
   "source": [
    "# Modeling population dynamics and predation"
   ]
  },
  {
   "cell_type": "code",
   "metadata": {
    "collapsed": false,
    "jupyter": {
     "outputs_hidden": false
    },
    "ExecuteTime": {
     "end_time": "2024-05-22T07:52:06.624683Z",
     "start_time": "2024-05-22T07:52:03.685411Z"
    }
   },
   "source": [
    "import matplotlib.pyplot as plt\n",
    "%matplotlib inline"
   ],
   "outputs": [],
   "execution_count": 1
  },
  {
   "cell_type": "markdown",
   "metadata": {},
   "source": [
    "## 1. Rabbits without any predator, in an infinite world full of food"
   ]
  },
  {
   "cell_type": "markdown",
   "metadata": {},
   "source": [
    "As suggested by the title, we would like to first define a model that explains the population growth of rabbits.  \n",
    "Let's for a second assume that these lucky rabbits live in a very large area, possibly infinite, and they have plenty of food. This scenario may appear unrealistic but it is reasonable if the rabbits are introduced in a vast region that lacks any predator (for example, as it happened in Australia in the late 19th century). How would the population grow? Rabbits reproduce very quickly, and under these conditions the change in rabbit population per month would be positive (as births outnumber deaths), and proportional to the size of the current population (the more rabbits you have, the more baby rabbits you will find after one month).  \n",
    "This scenario can be modeled by this simple differential equation:"
   ]
  },
  {
   "cell_type": "markdown",
   "metadata": {},
   "source": [
    "\\begin{equation}\n",
    "\\frac{dx}{dt} = \\alpha x\n",
    "\\end{equation}"
   ]
  },
  {
   "cell_type": "markdown",
   "metadata": {},
   "source": [
    "where $x$ is the rabbit population size, $t$ is the time (in our case measured in units of months), and $\\alpha$ is a parameter that measures how quickly rabbits reproduce, and it corresponds to the inverse of the time it takes for the population to increase by a factor of e~2.7 (so a bit more than the doubling time).  \n",
    "To study the dynamics of the population, we can write a simulation that solves the above differential equation using the Euler algorithm.  \n",
    "As we did before, we first define a function that compute the derivative of the population, then we use this function into another simulation function that implements the Euler algorithm and performs the actual simulation (this is useful to avoid mistakes when implementing the Euler algorithm, especially when model is complex, and it easily generalizes to more accurate algorithms for integrating ordinary differential equations).    \n",
    "Remember that if the rabbit population is less than 2, these rabbits will not be able to produce any offspring, so eventually these rabbits will die, so we can end the simulation."
   ]
  },
  {
   "cell_type": "code",
   "metadata": {
    "ExecuteTime": {
     "end_time": "2024-05-22T07:53:28.596959Z",
     "start_time": "2024-05-22T07:53:28.573713Z"
    }
   },
   "source": [
    "def derivatives_rabbits_ideal(X,alpha):\n",
    "    # compute derivative of eponential model as a function of current population, and parameter alpha\n",
    "    \n",
    "    return alpha*X"
   ],
   "outputs": [],
   "execution_count": 2
  },
  {
   "cell_type": "code",
   "metadata": {
    "ExecuteTime": {
     "end_time": "2024-05-22T07:57:16.621973Z",
     "start_time": "2024-05-22T07:57:16.604104Z"
    }
   },
   "source": [
    "def run_simulation_rabbits_ideal(X0,alpha,dt,Tmax):\n",
    "    # define lists Xhistory and times to store history of simulation\n",
    "    Xhistory = [X0]\n",
    "    times = [0.]\n",
    "    # define current variables X and T\n",
    "    X = Xhistory[-1]\n",
    "    T = times[-1]\n",
    "    # here write main loop that performs the simulation\n",
    "    Nsteps = int(Tmax/dt)\n",
    "    for i in range(Nsteps):\n",
    "        T += dt\n",
    "        k = derivatives_rabbits_ideal(X,alpha)\n",
    "        X += k*dt\n",
    "        times.append(T)\n",
    "        Xhistory.append(X)\n",
    "    # return times and populations\n",
    "    return times, Xhistory"
   ],
   "outputs": [],
   "execution_count": 3
  },
  {
   "cell_type": "markdown",
   "metadata": {},
   "source": [
    "We measure time in months, and on average, after one month 2 rabbits give birth to an offspring of 2 baby rabbits, so a reasonable value is $\\alpha=1$.  \n",
    "Let's say we initially have a population of 4 rabbits.  \n",
    "We can set a timestep of dt=0.01 months and a maximum time of 40 months.  \n",
    "How many rabbits do we have at the end?  "
   ]
  },
  {
   "cell_type": "markdown",
   "metadata": {},
   "source": [
    "you can also plot the data in logscale using `plt.yscale('log')`"
   ]
  },
  {
   "cell_type": "markdown",
   "metadata": {},
   "source": [
    "After only 40 months, out population got to 10$^{17}$ individuals. How is that possible? Well those rabbits live in an infinite world full of food, it's not that surprising!"
   ]
  },
  {
   "cell_type": "markdown",
   "metadata": {},
   "source": [
    "## 2. Rabbits in a finite world with finite resources (the logistic model)"
   ]
  },
  {
   "cell_type": "markdown",
   "metadata": {},
   "source": [
    "How do we model population growth in a world that has limited resources?  \n",
    "As the population approaches the maximum number of individuals that a certain environment can support, what we call the **carrying capacity C**, the rate of rabbit population growth should approach zero. We can include this effect by making a minor change to our previous differential equation."
   ]
  },
  {
   "cell_type": "markdown",
   "metadata": {},
   "source": [
    "\\begin{equation}\n",
    "\\frac{dx}{dt} = \\alpha \\left( 1 - \\frac{x}{C} \\right) x\n",
    "\\end{equation}"
   ]
  },
  {
   "cell_type": "markdown",
   "metadata": {},
   "source": [
    "You can now see that for a small population $x\\sim 0$ the growth rate dx/dt/x is close to $\\alpha$, as before, but when $x\\sim C$ there is not enough food for all the rabbits and the growth rate becomes close to zero. Let's see what happens in a simulation"
   ]
  },
  {
   "cell_type": "code",
   "execution_count": 14,
   "metadata": {},
   "outputs": [],
   "source": [
    "def derivatives_rabbits_capacity(X,alpha,C):\n",
    "    return"
   ]
  },
  {
   "cell_type": "code",
   "execution_count": 15,
   "metadata": {},
   "outputs": [],
   "source": [
    "def run_simulation_rabbits_capacity(X0,alpha,C,dt,Tmax):\n",
    "    return"
   ]
  },
  {
   "cell_type": "markdown",
   "metadata": {},
   "source": [
    "Now this seems more reasonable! The capacity C is now the maximum rabbit population that can be supported by the considered environment.  \n",
    "But is this also realistic? Not really, because usually rabbits have predators, such as foxes!"
   ]
  },
  {
   "cell_type": "markdown",
   "metadata": {},
   "source": [
    "## 3. Foxes without anything to prey"
   ]
  },
  {
   "cell_type": "markdown",
   "metadata": {},
   "source": [
    "Let's first try modeling foxes without any prey to eat. That's a really unfortunate situation for a population of foxes, because without food, the population would simply die off. Assuming the death rate to be constant, we can model this situation with the following differential equation:"
   ]
  },
  {
   "cell_type": "markdown",
   "metadata": {},
   "source": [
    "\\begin{equation}\n",
    "\\frac{dy}{dt} = -\\gamma y\n",
    "\\end{equation}\n",
    "where $\\gamma$ is the inverse time it takes for the population to decrease by a factor of e~2.7"
   ]
  },
  {
   "cell_type": "code",
   "execution_count": 17,
   "metadata": {},
   "outputs": [],
   "source": [
    "def derivatives_foxes(Y,gamma):\n",
    "    return"
   ]
  },
  {
   "cell_type": "code",
   "execution_count": 18,
   "metadata": {},
   "outputs": [],
   "source": [
    "def run_simulation_foxes(Y0,gamma,dt,Tmax):\n",
    "    return"
   ]
  },
  {
   "cell_type": "markdown",
   "metadata": {},
   "source": [
    "We can start from a large population of 100 thousand foxes. $\\gamma$ can be set to 1, about half of the foxes die after one month of starvation."
   ]
  },
  {
   "cell_type": "markdown",
   "metadata": {},
   "source": [
    "It only takes 10 months for the entire population to collapse!"
   ]
  },
  {
   "cell_type": "markdown",
   "metadata": {},
   "source": [
    "## 4. Foxes and rabbits together - Predation"
   ]
  },
  {
   "cell_type": "markdown",
   "metadata": {},
   "source": [
    "In order to model a more realistic scenario where rabbits $x$ and foxes $y$ live together, we need a model that explains how foxes influence rabbits, and vice-versa. This is given by the so-called Lotka-Volterra equations:"
   ]
  },
  {
   "cell_type": "markdown",
   "metadata": {},
   "source": [
    "\\begin{align}\n",
    "\\frac{dx}{dt} &= \\alpha x -\\beta x y   \\\\\n",
    "\\frac{dy}{dt} &= -\\gamma y +\\delta x y\n",
    "\\end{align}\n",
    "where $-\\beta x y$ represents the death of rabbits due to their encounter with foxes    \n",
    "and $\\delta xy$ the growth of foxes thanks to the successful hunting of rabbits.  \n",
    "Note that in this simple model we can ignore the capacity of the environment because the rabbit population is already limited by the foxes, although in principle this can also be added."
   ]
  },
  {
   "cell_type": "markdown",
   "metadata": {},
   "source": [
    "This model can be used to explain the observation of oscillations in the polulations of preys and predators in the wild, as those of lynx and hare [C. Elton & M. Nicholson, The Ten-Year Cycle in numbers of the Lynx in Canada, Journal of Animal Ecology, 11, 215-244, 1942]. Data uploaded to PandA."
   ]
  },
  {
   "cell_type": "code",
   "execution_count": 3,
   "metadata": {},
   "outputs": [
    {
     "data": {
      "text/plain": [
       "Text(0, 0.5, 'population (thousands of furs)')"
      ]
     },
     "execution_count": 3,
     "metadata": {},
     "output_type": "execute_result"
    },
    {
     "data": {
      "image/png": "[encoded data removed]",
      "text/plain": [
       "<Figure size 432x288 with 1 Axes>"
      ]
     },
     "metadata": {
      "needs_background": "light"
     },
     "output_type": "display_data"
    }
   ],
   "source": [
    "years=[]\n",
    "hare_history=[]\n",
    "lynx_history=[]\n",
    "for line in open('hare_lynx_populations.dat','r').readlines():\n",
    "    if line[0]=='#': continue # this is a comment\n",
    "    tokens=line.split()\n",
    "    years.append( float(tokens[0]) )\n",
    "    hare_history.append( float(tokens[1]) )\n",
    "    lynx_history.append( float(tokens[2]) )\n",
    "plt.plot(years,hare_history,'-',label='hare')\n",
    "plt.plot(years,lynx_history,'--',label='lynx')\n",
    "plt.xlabel('year')\n",
    "plt.ylabel('population (thousands of furs)')"
   ]
  },
  {
   "cell_type": "markdown",
   "metadata": {},
   "source": [
    "**Task:** based on the previous simulations, write a new simulation for the dynamics of both rabbits and foxes over 40 months using the Euler algorithm."
   ]
  },
  {
   "cell_type": "markdown",
   "metadata": {},
   "source": [
    "Note that our differential equation has two variables, the populations of rabbits $x$ and foxes $y$, so the equation takes the general form:\n",
    "\\begin{equation}\n",
    "\\frac{d{\\bf x}}{dt} = {\\bf f}({\\bf x},t)\n",
    "\\end{equation}\n",
    "where in our case ${\\bf f}({\\bf x},t)=(\\alpha x -\\beta x y,-\\gamma y + \\delta x y)$ is the function that computes the two derivatives of the variables ${\\bf x}=(x,y)$ (note we do not have any time dependence in our Lotka-Volterra model, ${\\bf f}({\\bf x},t)= {\\bf f}({\\bf x})$)."
   ]
  },
  {
   "cell_type": "markdown",
   "metadata": {},
   "source": [
    "In order to implement the Euler algorithm correctly, at each timestep $n$ we have to first compute the two derivatives based on the value of the variables at step $n$, and then only after add the increments to get the value of the variables at step $n+1$:\n",
    "\\begin{align}\n",
    "{\\bf k} &= {\\bf f}({\\bf x}_n,t_n) \\\\\n",
    "{\\bf x}_{n+1} &= {\\bf x}_{n} + {\\bf k} dt \\\\\n",
    "t_{n+1} &= t_n + dt\n",
    "\\end{align}\n",
    "Computing the derivatives should be done using an approrpiate function that takes as arguments the variables and parameters of the model and return both derivatives (separated by a comma)."
   ]
  },
  {
   "cell_type": "markdown",
   "metadata": {},
   "source": [
    "We can use the settings:  \n",
    "$x_0=400$  \n",
    "$y_0=100$  \n",
    "$\\alpha=\\gamma=1.0$  \n",
    "$\\beta=0.01$  \n",
    "$\\delta=0.005$  \n",
    "But you should try to change the parameters to explore how they affect the dynamics of the system."
   ]
  },
  {
   "cell_type": "markdown",
   "metadata": {},
   "source": [
    "**Questions:**  \n",
    "- How do the populations of rabbits and foxes change over time? Does it resemble the data collected on lynx and hare populations? Can you qualitatively explain this behavior?\n",
    "- How do the parameters and initial conditions affect the period and amplitude of the observed cycles?  \n",
    "- It is also helpful to plot the rabbits and foxes populations together on the same plot in 2 dimensions, without using the time. Use this kind of plot to compare the same model (same $\\alpha$,$\\beta$,$\\gamma$,$\\delta$) but with different initial conditions (e.g. try to change $x_0$ to 500, 300, or 200).  \n",
    "-  Try to set the initial conditions to the so-called **fixed point**: $x_0=\\gamma/\\delta$ and $y_0=\\alpha/\\beta$. What happens over time? Can you explain why this happens by substituting the values of $x$ and $y$ into the differential equation?"
   ]
  },
  {
   "cell_type": "markdown",
   "metadata": {},
   "source": [
    "## 5.** A more accurate Lotka-Volterra simulation using the Runge-Kutta method"
   ]
  },
  {
   "cell_type": "markdown",
   "metadata": {},
   "source": [
    "If you want to perform an accurate simulation for this model, it is best to use the classic Runge-Kutta method (also known as Runge-Kutta 4th order, or RK4) <https://en.wikipedia.org/wiki/Runge-Kutta_methods>, which is more accurate than the Euler method for solving ordinary differential equations:  \n",
    "\\begin{align}\n",
    "\\frac{d{\\bf x}}{dt} &= {\\bf f}({\\bf x},t) \\\\\n",
    "{\\bf k}_1 &= {\\bf f}({\\bf x}_n,t_n) \\\\\n",
    "{\\bf k}_2 &= {\\bf f}({\\bf x}_n+{\\bf k}_1 dt/2,t_n+dt/2) \\\\\n",
    "{\\bf k}_3 &= {\\bf f}({\\bf x}_n+{\\bf k}_2 dt/2,t_n+dt/2) \\\\\n",
    "{\\bf k}_4 &= {\\bf f}({\\bf x}_n+{\\bf k}_3 dt,t_n+dt) \\\\\n",
    "{\\bf x}_{n+1} &= {\\bf x}_{n} + \\frac{1}{6}({\\bf k}_1 + 2{\\bf k}_2 + 2{\\bf k}_3 + {\\bf k}_4) dt \\\\\n",
    "t_{n+1} &= t_n + dt\n",
    "\\end{align}\n",
    "Where ${\\bf f}({\\bf x},t)$ computes the derivatis in the model. Again, note there is no time dependence in our specific case.  \n",
    "**Task:** Implement the Runge-Kutta method and compare the results with those of the Euler method. The difference in behavior is apparent especially when looking at the plots of rabbits versus foxes, without time.  "
   ]
  },
  {
   "cell_type": "markdown",
   "metadata": {},
   "source": [
    "## 6.** The effect of pesticides on the equilibrium between species"
   ]
  },
  {
   "cell_type": "markdown",
   "metadata": {},
   "source": [
    "Imagine you are a farmer that wants to defend your land from an invasion of rabbits that steal your vegetables. You could place poison around the fields. However, these would inevitably also kill the foxes that prey on the rabbits. You can assume that the poison kills both rabbits and foxes at the same rate $p=0.5$ (here $p$ is a death rate with units of months$^{-1}$, and its inverse $1/p$ represents the typical time it takes for a rabbit or a fox to die due to poisoning).  \n",
    "**Task:** How does this modify your previous Lotka-Volterra model? Run a simulation with the new parameters and evaluate the changes on the populatin dynamics of the system. What would be the effect on the equilibrium population of rabbits and foxes? Did you reach your aim of reducing the number of rabbits around your field? What about the foxes?"
   ]
  },
  {
   "cell_type": "markdown",
   "metadata": {},
   "source": [
    "More on this problem: [Lester et al. Journal of applied Ecology 35.2 (1998): 323 ; Li and Yang. Commun Nonlinear Sci Numer Simul 29.1-3 (2015): 179]"
   ]
  },
  {
   "cell_type": "markdown",
   "metadata": {},
   "source": [
    "## 7.** Why are cycles hard to observe in experiments?"
   ]
  },
  {
   "cell_type": "markdown",
   "metadata": {},
   "source": [
    "In experiments, it is quite hard to observe stable cycles of oscillating prey and predator populations. For example, experiments since the 30s failed to find evidence of the cycles predicted by the Lotka-Volterra model [Gause. The Struggle for Existence. Courier Dover Publications, 2019] (these have only been recently observed in a simple model system of predation [Blasius et al. Nature 577, 226–230 (2020)]). Instead, in many situations, the two populations are unstable, and one or both species at some point become extinct. Why is that? One possibility is that our model is too simple and it does not capture the entire complexity of the interactions between different species. We can try to explore this question by changing our equations. A very simple extension of the Lotka-Volterra model is one that assumes that prey-predator interactions are not linear. This may happen for example when the prey has some response machanisms such as hiding or releasing toxins:\n",
    "\\begin{align}\n",
    "\\frac{dx}{dt} &= \\alpha x -\\beta y \\left(\\frac{x}{1+x/K}\\right)  \\\\\n",
    "\\frac{dy}{dt} &= -\\gamma y +\\delta y \\left(\\frac{x}{1+x/K}\\right)\n",
    "\\end{align}\n",
    "which assumes that when the prey population becomes higher than K, prey-predator encounters become less frequent."
   ]
  },
  {
   "cell_type": "markdown",
   "metadata": {},
   "source": [
    "**Task:** Implement the model above and simulate the dynamics of the two populations. Initially you can use K=2000, but you should also try different values. What is happening in this scenario? Also plot the two populations without time as done before.  \n",
    "This model sometimes gives what is called a paradox of enrichment, a situation where the predator population becomes extinct even if there is plenty of prey to eat. Can you find this situation for some of the parameters?"
   ]
  }
 ],
 "metadata": {
  "kernelspec": {
   "display_name": "Python 3 (ipykernel)",
   "language": "python",
   "name": "python3"
  },
  "language_info": {
   "codemirror_mode": {
    "name": "ipython",
    "version": 3
   },
   "file_extension": ".py",
   "mimetype": "text/x-python",
   "name": "python",
   "nbconvert_exporter": "python",
   "pygments_lexer": "ipython3",
   "version": "3.9.12"
  }
 },
 "nbformat": 4,
 "nbformat_minor": 4
}
